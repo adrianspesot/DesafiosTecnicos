{
 "cells": [
  {
   "cell_type": "markdown",
   "id": "004b8d09-6c7a-4484-96fa-a7b86048db12",
   "metadata": {},
   "source": [
    "# Desafío Técnico 2"
   ]
  },
  {
   "cell_type": "raw",
   "id": "3905215d-fe3c-4bef-bac2-70a8529c787f",
   "metadata": {},
   "source": [
    "A pesar de que el desafío dice que es para MySql, se creará la base de datos en SQL server.\n",
    "Para ello, utilizaremos las consultas expuestas en el archivo Challenge.sql, y las ejecutaremos."
   ]
  },
  {
   "cell_type": "markdown",
   "id": "d140f6b5-c559-4580-9cda-4032e31b0047",
   "metadata": {},
   "source": [
    "## Librerías"
   ]
  },
  {
   "cell_type": "code",
   "execution_count": 5,
   "id": "086b0220-0831-477f-9f63-7c931a40d094",
   "metadata": {},
   "outputs": [],
   "source": [
    "import pyodbc # librería SQL server\n",
    "import pandas as pd"
   ]
  },
  {
   "cell_type": "markdown",
   "id": "b93a576d-e483-47b8-9064-ac1147387e46",
   "metadata": {},
   "source": [
    "## Conexión a SQL Server"
   ]
  },
  {
   "cell_type": "code",
   "execution_count": 19,
   "id": "c6e984ab-1a5c-4344-8117-39cff2af1719",
   "metadata": {},
   "outputs": [],
   "source": [
    "# Establecer la conexión a la base de datos\n",
    "conn = pyodbc.connect('''\n",
    "DRIVER={SQL Server}; \n",
    "SERVER=E-01497\\SQLEXPRESS;\n",
    "DATABASE=master;\n",
    "Trusted_Connection=yes;''')\n",
    "\n",
    "# Trusted_Connection=yes; esto es usado ya que tenemos autenticación de windows, de lo contrario hay que reemplazar por:\n",
    "# UID=usuario; PWD=contraseña\n",
    "\n",
    "# Crear un cursor para ejecutar comandos SQL\n",
    "cursor = conn.cursor()\n"
   ]
  },
  {
   "cell_type": "markdown",
   "id": "036c2e44-39a5-443e-807c-e8612f6a596b",
   "metadata": {},
   "source": [
    "## Crear DataBase y Tablas"
   ]
  },
  {
   "cell_type": "code",
   "execution_count": null,
   "id": "834f00d4-8658-462c-9f89-99ce68915268",
   "metadata": {},
   "outputs": [],
   "source": [
    "#### Consultamos si la base de datos existe, y si es así, la eliminamos para que no genere inconvenientes."
   ]
  },
  {
   "cell_type": "code",
   "execution_count": null,
   "id": "9238f427-7a5d-4e60-ad5a-fa24f209e31f",
   "metadata": {},
   "outputs": [],
   "source": [
    "# Consultar si la base de datos \"DesafioTecnico2_CorebiSchool\" existe\n",
    "database = 'DesafioTecnico2_CorebiSchool'\n",
    "\n",
    "cursor.execute(f\"SELECT database_id FROM sys.databases WHERE name = '{database}';\")\n",
    "row = cursor.fetchone()\n",
    "\n",
    "# Si la base de datos existe, eliminarla\n",
    "if row:\n",
    "    cursor.execute(f\"DROP DATABASE {database};\")\n",
    "    conn.commit()\n",
    "    print(f\"La base de datos '{database}' ha sido eliminada.\")\n",
    "else:\n",
    "    print(f\"La base de datos '{database}' no existe.\")"
   ]
  },
  {
   "cell_type": "markdown",
   "id": "7d144a60-c1b0-47a2-b821-55b5f374b93e",
   "metadata": {},
   "source": [
    "### Crear Database"
   ]
  },
  {
   "cell_type": "code",
   "execution_count": 33,
   "id": "0a784457-7886-4177-8253-4fb66758e842",
   "metadata": {},
   "outputs": [
    {
     "name": "stdout",
     "output_type": "stream",
     "text": [
      "La base de datos 'DesafioTecnico2_CorebiSchool' ya existe.\n"
     ]
    }
   ],
   "source": [
    "# Primero se consulta si la base de datos extiste, en caso de No existir, la crea, y en caso de exsistir cierra la conexión\n",
    "database = 'DesafioTecnico2_CorebiSchool'\n",
    "\n",
    "cursor.execute(f\"SELECT database_id FROM sys.databases WHERE name = '{database}';\")\n",
    "row = cursor.fetchone()\n",
    "# Si la base de datos existe, da un aviso y \n",
    "if row: \n",
    "    print(f\"La base de datos '{database}' ya existe.\")\n",
    "    cursor.close()\n",
    "else:\n",
    "    # Ejecutar el comando SQL para crear la base de datos\n",
    "    cursor.execute(f\"CREATE DATABASE '{database}';\")\n",
    "    conn.commit()  # Confirmar la operación\n",
    "    cursor.close()\n",
    "    print(f\"La base de datos '{database}' fue creada con éxito.\")"
   ]
  },
  {
   "cell_type": "markdown",
   "id": "89cc28e2-e867-4fd4-bd22-cf51355ab3ff",
   "metadata": {},
   "source": [
    "#### Conectar a la base de datos recientemente creada"
   ]
  },
  {
   "cell_type": "code",
   "execution_count": 34,
   "id": "d26975e2-bc6f-4255-9710-6bc29a529a47",
   "metadata": {},
   "outputs": [],
   "source": [
    "# Cambiar a la base de datos recién creada\n",
    "conn.close()  # Cerrar la conexión actual\n",
    "conn = pyodbc.connect('''\n",
    "DRIVER={SQL Server};\n",
    "SERVER=E-01497\\SQLEXPRESS;\n",
    "DATABASE=DesafioTecnico2_CorebiSchool;\n",
    "Trusted_Connection=yes''')\n",
    "\n",
    "# Volvemos a crear un nuevo cursor\n",
    "cursor = conn.cursor()"
   ]
  },
  {
   "cell_type": "markdown",
   "id": "ee5b3711-55c8-4ff7-b180-119820e31cae",
   "metadata": {},
   "source": [
    "### Crear Tablas"
   ]
  },
  {
   "cell_type": "code",
   "execution_count": null,
   "id": "be4dde95-6445-458b-9036-a8521a30aaa3",
   "metadata": {},
   "outputs": [],
   "source": []
  },
  {
   "cell_type": "code",
   "execution_count": null,
   "id": "e86a1797-5d66-40a9-bc6a-6f0b35d118d0",
   "metadata": {},
   "outputs": [],
   "source": [
    "\n",
    "# Comando SQL para crear una nueva tabla\n",
    "create_table_query = '''\n",
    "CREATE TABLE MiTabla (\n",
    "    ID INT PRIMARY KEY,\n",
    "    Nombre NVARCHAR(50),\n",
    "    Edad INT\n",
    ");\n",
    "'''\n",
    "# Ejecutar el comando SQL para crear la tabla\n",
    "cursor.execute(create_table_query)\n",
    "conn.commit()  # Confirmar la operación\n",
    "\n",
    "# Cerrar la conexión\n",
    "conn.close()"
   ]
  }
 ],
 "metadata": {
  "kernelspec": {
   "display_name": "Python 3 (ipykernel)",
   "language": "python",
   "name": "python3"
  },
  "language_info": {
   "codemirror_mode": {
    "name": "ipython",
    "version": 3
   },
   "file_extension": ".py",
   "mimetype": "text/x-python",
   "name": "python",
   "nbconvert_exporter": "python",
   "pygments_lexer": "ipython3",
   "version": "3.9.18"
  }
 },
 "nbformat": 4,
 "nbformat_minor": 5
}
