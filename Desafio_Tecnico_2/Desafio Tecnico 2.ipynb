{
 "cells": [
  {
   "cell_type": "markdown",
   "id": "004b8d09-6c7a-4484-96fa-a7b86048db12",
   "metadata": {},
   "source": [
    "# Desafío Técnico 2"
   ]
  },
  {
   "cell_type": "raw",
   "id": "3905215d-fe3c-4bef-bac2-70a8529c787f",
   "metadata": {},
   "source": [
    "A pesar de que el desafío dice que es para MySql, se creará la base de datos en SQL server.\n",
    "Para ello, utilizaremos las consultas expuestas en el archivo Challenge.sql, y las ejecutaremos."
   ]
  },
  {
   "cell_type": "markdown",
   "id": "d140f6b5-c559-4580-9cda-4032e31b0047",
   "metadata": {},
   "source": [
    "## Librerías"
   ]
  },
  {
   "cell_type": "code",
   "execution_count": 1,
   "id": "086b0220-0831-477f-9f63-7c931a40d094",
   "metadata": {},
   "outputs": [],
   "source": [
    "import pyodbc # librería SQL server\n",
    "import pandas as pd"
   ]
  },
  {
   "cell_type": "markdown",
   "id": "ff61dcd2-aaa5-4feb-8726-684def00c216",
   "metadata": {},
   "source": [
    "## SQL"
   ]
  },
  {
   "cell_type": "markdown",
   "id": "b93a576d-e483-47b8-9064-ac1147387e46",
   "metadata": {
    "jp-MarkdownHeadingCollapsed": true
   },
   "source": [
    "### Conexión a SQL Server"
   ]
  },
  {
   "cell_type": "code",
   "execution_count": 4,
   "id": "c6e984ab-1a5c-4344-8117-39cff2af1719",
   "metadata": {},
   "outputs": [],
   "source": [
    "# Establecer la conexión a la base de datos\n",
    "conn = pyodbc.connect('''\n",
    "DRIVER={SQL Server}; \n",
    "SERVER=E-01497\\SQLEXPRESS;\n",
    "DATABASE=master;\n",
    "Trusted_Connection=yes;''')\n",
    "\n",
    "# Trusted_Connection=yes; esto es usado ya que tenemos autenticación de windows, de lo contrario hay que reemplazar por:\n",
    "# UID=usuario; PWD=contraseña\n",
    "\n",
    "# Crear un cursor para ejecutar comandos SQL\n",
    "cursor = conn.cursor()\n"
   ]
  },
  {
   "cell_type": "markdown",
   "id": "036c2e44-39a5-443e-807c-e8612f6a596b",
   "metadata": {
    "jp-MarkdownHeadingCollapsed": true
   },
   "source": [
    "### Crear DataBase y Tablas"
   ]
  },
  {
   "cell_type": "markdown",
   "id": "7d144a60-c1b0-47a2-b821-55b5f374b93e",
   "metadata": {},
   "source": [
    "#### Crear Database"
   ]
  },
  {
   "cell_type": "code",
   "execution_count": 5,
   "id": "0a784457-7886-4177-8253-4fb66758e842",
   "metadata": {},
   "outputs": [
    {
     "name": "stdout",
     "output_type": "stream",
     "text": [
      "La base de datos 'DesafioTecnico2_CorebiSchool' ya existe.\n"
     ]
    }
   ],
   "source": [
    "# Primero se consulta si la base de datos extiste, en caso de No existir, la crea, y en caso de exsistir cierra la conexión\n",
    "database = 'DesafioTecnico2_CorebiSchool'\n",
    "\n",
    "cursor.execute(f\"SELECT database_id FROM sys.databases WHERE name = '{database}';\")\n",
    "row = cursor.fetchone()\n",
    "# Si la base de datos existe, da un aviso y \n",
    "if row: \n",
    "    print(f\"La base de datos '{database}' ya existe.\")\n",
    "    cursor.close()\n",
    "else:\n",
    "    # Ejecutar el comando SQL para crear la base de datos\n",
    "    cursor.execute(f\"CREATE DATABASE '{database}';\")\n",
    "    conn.commit()  # Confirmar la operación\n",
    "    cursor.close()\n",
    "    print(f\"La base de datos '{database}' fue creada con éxito.\")"
   ]
  },
  {
   "cell_type": "markdown",
   "id": "89cc28e2-e867-4fd4-bd22-cf51355ab3ff",
   "metadata": {
    "jp-MarkdownHeadingCollapsed": true
   },
   "source": [
    "#### Conectar a la base de datos recientemente creada"
   ]
  },
  {
   "cell_type": "code",
   "execution_count": 6,
   "id": "d26975e2-bc6f-4255-9710-6bc29a529a47",
   "metadata": {},
   "outputs": [],
   "source": [
    "# Cambiar a la base de datos recién creada\n",
    "conn.close()  # Cerrar la conexión actual\n",
    "conn = pyodbc.connect('''\n",
    "DRIVER={SQL Server};\n",
    "SERVER=E-01497\\SQLEXPRESS;\n",
    "DATABASE=DesafioTecnico2_CorebiSchool;\n",
    "Trusted_Connection=yes''')\n",
    "\n",
    "# Volvemos a crear un nuevo cursor\n",
    "cursor = conn.cursor()"
   ]
  },
  {
   "cell_type": "markdown",
   "id": "ee5b3711-55c8-4ff7-b180-119820e31cae",
   "metadata": {
    "jp-MarkdownHeadingCollapsed": true
   },
   "source": [
    "#### Crear Tablas"
   ]
  },
  {
   "cell_type": "raw",
   "id": "c3c66315-137b-42a5-845c-94b65d006e50",
   "metadata": {},
   "source": [
    "Creamos una tabla para ver el proceso al detalle y más compacto"
   ]
  },
  {
   "cell_type": "code",
   "execution_count": 36,
   "id": "d4487a14-2f46-49a0-9cea-31a5c2eba440",
   "metadata": {},
   "outputs": [],
   "source": [
    "# definimos una variable donde escribimos la consulta para que luego el código no quede tan engorroso\n",
    "tabla_Alumnos = '''\n",
    "    CREATE TABLE Alumnos (\n",
    "    alumno_id INT PRIMARY KEY,\n",
    "    nombre VARCHAR(50),\n",
    "    fecha_nacimiento DATE,\n",
    "    direccion VARCHAR(100)\n",
    "    );\n",
    "'''\n",
    "\n",
    "# Ejecutar el comando SQL para crear la tabla\n",
    "cursor.execute(tabla_Alumnos)\n",
    "conn.commit()  # Confirmar la operación"
   ]
  },
  {
   "cell_type": "raw",
   "id": "598bf7b2-f850-434a-b0ba-f1da62d940ee",
   "metadata": {},
   "source": [
    "Cargamos todas las tablas juntas"
   ]
  },
  {
   "cell_type": "code",
   "execution_count": 37,
   "id": "e86a1797-5d66-40a9-bc6a-6f0b35d118d0",
   "metadata": {},
   "outputs": [],
   "source": [
    "# Comando SQL para crear multiples tablas nuevas\n",
    "create_table_query = '''\n",
    "CREATE TABLE Materias (\n",
    "    materia_id INT PRIMARY KEY,\n",
    "    nombre VARCHAR(50),\n",
    "    creditos INT\n",
    ");\n",
    "\n",
    "CREATE TABLE Inscripciones (\n",
    "    alumno_id INT,\n",
    "    materia_id INT,\n",
    "    fecha_inscripcion DATE,\n",
    "    PRIMARY KEY (alumno_id, materia_id),\n",
    "    FOREIGN KEY (alumno_id) REFERENCES Alumnos(alumno_id),\n",
    "    FOREIGN KEY (materia_id) REFERENCES Materias(materia_id)\n",
    ");\n",
    "\n",
    "CREATE TABLE Notas (\n",
    "    nota_id INT PRIMARY KEY,\n",
    "    alumno_id INT,\n",
    "    materia_id INT,\n",
    "    valor FLOAT,\n",
    "    fecha_registro DATE,\n",
    "    FOREIGN KEY (alumno_id) REFERENCES Alumnos(alumno_id),\n",
    "    FOREIGN KEY (materia_id) REFERENCES Materias(materia_id)\n",
    ");\n",
    "'''\n",
    "# Ejecutar el comando SQL para crear la tabla\n",
    "cursor.execute(create_table_query)\n",
    "conn.commit()  # Confirmar la operación\n"
   ]
  },
  {
   "cell_type": "markdown",
   "id": "140cb801-50f1-4acc-8625-f94e1319a518",
   "metadata": {
    "jp-MarkdownHeadingCollapsed": true
   },
   "source": [
    "### Inserción de Datos"
   ]
  },
  {
   "cell_type": "code",
   "execution_count": 38,
   "id": "50ed006a-3d94-4838-a1cc-e4fded952231",
   "metadata": {},
   "outputs": [],
   "source": [
    "datos = '''\n",
    "INSERT INTO Alumnos (alumno_id, nombre, fecha_nacimiento, direccion) VALUES\n",
    "    (1, 'Juan Perez', '1998-05-15', 'Calle 123, Ciudad'),\n",
    "    (2, 'María García', '1997-08-10', 'Avenida 456, Ciudad'),\n",
    "    (3, 'Carlos Martínez', '1999-02-20', 'Plaza 789, Ciudad'),\n",
    "    (4, 'Luisa Rodriguez', '2000-11-05', 'Calle 567, Ciudad'),\n",
    "    (5, 'Andrés López', '1996-03-22', 'Avenida 890, Ciudad'),\n",
    "    (6, 'Ana Sánchez', '1998-07-18', 'Plaza 234, Ciudad'),\n",
    "    (7, 'Diego Torres', '1999-09-30', 'Calle 901, Ciudad'),\n",
    "    (8, 'Valentina Herrera', '1997-12-08', 'Avenida 123, Ciudad'),\n",
    "    (9, 'Pedro Gomez', '2001-01-25', 'Plaza 456, Ciudad'),\n",
    "    (10, 'Martina Fernández', '1996-06-14', 'Calle 678, Ciudad'),\n",
    "    (11, 'Javier Morales', '1998-04-09', 'Avenida 789, Ciudad'),\n",
    "    (12, 'Camila Ruiz', '2000-10-02', 'Plaza 345, Ciudad'),\n",
    "    (13, 'Santiago Diaz', '1999-03-11', 'Calle 012, Ciudad'),\n",
    "    (14, 'Isabella Jiménez', '1997-09-29', 'Avenida 567, Ciudad'),\n",
    "    (15, 'Lucas Perez', '1998-08-17', 'Plaza 678, Ciudad'),\n",
    "    (16, 'Emma Castro', '2001-02-13', 'Calle 234, Ciudad'),\n",
    "    (17, 'Mateo Vargas', '1996-07-28', 'Avenida 789, Ciudad'),\n",
    "    (18, 'Mia Morales', '1997-12-01', 'Plaza 890, Ciudad'),\n",
    "    (19, 'Daniel Herrera', '1999-05-09', 'Calle 123, Ciudad'),\n",
    "    (20, 'Valeria Aguilar', '2000-06-22', 'Avenida 456, Ciudad'),\n",
    "    (21, 'Alejandro Gomez', '2001-03-15', 'Plaza 567, Ciudad'),\n",
    "    (22, 'Laura Rodríguez', '1997-11-18', 'Calle 678, Ciudad'),\n",
    "    (23, 'Nicolás Fernández', '1998-10-14', 'Avenida 789, Ciudad'),\n",
    "    (24, 'Sofía Martínez', '1999-09-12', 'Plaza 890, Ciudad'),\n",
    "    (25, 'Diego Soto', '2000-08-11', 'Calle 123, Ciudad'),\n",
    "    (26, 'Valentina Torres', '1997-07-09', 'Avenida 234, Ciudad'),\n",
    "    (27, 'Lucas Pérez', '1998-06-07', 'Plaza 345, Ciudad'),\n",
    "    (28, 'Martina Gómez', '1999-05-05', 'Calle 456, Ciudad'),\n",
    "    (29, 'Joaquín Morales', '2001-04-03', 'Avenida 567, Ciudad'),\n",
    "    (30, 'Luna Rodríguez', '1996-03-01', 'Plaza 678, Ciudad'),\n",
    "    (31, 'Matías Fernández', '1998-02-27', 'Calle 789, Ciudad'),\n",
    "    (32, 'Emma Sánchez', '1999-01-25', 'Avenida 890, Ciudad'),\n",
    "    (33, 'Pedro Vargas', '2000-12-22', 'Plaza 123, Ciudad'),\n",
    "    (34, 'Valeria Martínez', '1997-11-18', 'Calle 234, Ciudad'),\n",
    "    (35, 'Nicolás Fernández', '1998-10-14', 'Avenida 345, Ciudad'),\n",
    "    (36, 'Sofía Pérez', '1999-09-12', 'Plaza 456, Ciudad'),\n",
    "    (37, 'Diego Gómez', '2000-08-11', 'Calle 567, Ciudad'),\n",
    "    (38, 'Valentina Torres', '1997-07-09', 'Avenida 678, Ciudad'),\n",
    "    (39, 'Lucas Rodríguez', '1998-06-07', 'Plaza 789, Ciudad'),\n",
    "    (40, 'Martina Soto', '1999-05-05', 'Calle 890, Ciudad');\n",
    "\n",
    "\n",
    "INSERT INTO Materias (materia_id, nombre, creditos) VALUES\n",
    "    (1, 'Matemáticas', 9),\n",
    "    (2, 'Historia', 3),\n",
    "    (3, 'Biología', 5),\n",
    "    (4, 'Química', 7),\n",
    "    (5, 'Física', 9);\n",
    "\n",
    "\n",
    "\n",
    "INSERT INTO Inscripciones (alumno_id, materia_id, fecha_inscripcion) VALUES\n",
    "    (14, 3, '2020-02-15'),\n",
    "    (25, 5, '2019-09-22'),\n",
    "    (6, 2, '2021-07-11'),\n",
    "    (31, 1, '2018-05-30'),\n",
    "    (9, 4, '2022-11-03'),\n",
    "    (19, 3, '2021-03-18'),\n",
    "    (33, 2, '2020-09-09'),\n",
    "    (8, 1, '2021-06-05'),\n",
    "    (22, 5, '2023-01-28'),\n",
    "    (12, 4, '2019-11-20'),\n",
    "    (40, 1, '2022-04-17'),\n",
    "    (2, 3, '2020-08-13'),\n",
    "    (7, 2, '2022-06-10'),\n",
    "    (13, 5, '2020-03-25'),\n",
    "    (18, 4, '2021-01-21'),\n",
    "    (37, 1, '2023-02-08'),\n",
    "    (15, 3, '2019-07-02'),\n",
    "    (36, 2, '2022-02-01'),\n",
    "    (10, 5, '2021-05-14'),\n",
    "    (32, 4, '2020-10-07'),\n",
    "    (26, 1, '2021-08-22'),\n",
    "    (4, 3, '2022-01-11'),\n",
    "    (30, 2, '2023-03-05'),\n",
    "    (27, 1, '2020-12-29'),\n",
    "    (39, 5, '2019-04-16'),\n",
    "    (17, 4, '2021-02-09'),\n",
    "    (21, 3, '2022-05-23'),\n",
    "    (29, 2, '2021-12-08'),\n",
    "    (5, 1, '2023-04-07'),\n",
    "    (23, 5, '2019-01-14'),\n",
    "    (11, 4, '2020-06-02'),\n",
    "    (1, 3, '2022-11-19'),\n",
    "    (35, 2, '2021-09-27'),\n",
    "    (3, 1, '2020-12-03'),\n",
    "    (20, 5, '2022-08-30'),\n",
    "    (38, 4, '2019-03-06'),\n",
    "    (16, 3, '2021-12-15'),\n",
    "    (28, 2, '2022-04-01'),\n",
    "    (24, 1, '2023-06-26'),\n",
    "    (34, 5, '2020-02-05'),\n",
    "    (40, 4, '2019-05-12'),\n",
    "    (9, 1, '2021-01-09');\n",
    "\n",
    "\n",
    "\n",
    "INSERT INTO Notas (nota_id, alumno_id, materia_id, valor, fecha_registro) VALUES\n",
    "    (1, 14, 4, 85, '2020-02-15'),\n",
    "    (2, 25, 5, 92, '2019-09-22'),\n",
    "    (3, 6, 2, 78, '2021-07-11'),\n",
    "    (4, 31, 1, 65, '2018-05-30'),\n",
    "    (5, 9, 4, 74, '2022-11-03'),\n",
    "    (6, 19, 3, 88, '2021-03-18'),\n",
    "    (7, 33, 2, 59, '2020-09-09'),\n",
    "    (8, 8, 1, 70, '2021-06-05'),\n",
    "    (9, 22, 5, 95, '2023-01-28'),\n",
    "    (10, 12, 4, 81, '2019-11-20'),\n",
    "    (11, 40, 1, 45, '2022-04-17'),\n",
    "    (12, 2, 3, 73, '2020-08-13'),\n",
    "    (13, 7, 2, 68, '2022-06-10'),\n",
    "    (14, 13, 5, 88, '2020-03-25'),\n",
    "    (15, 18, 4, 29, '2021-01-21'),\n",
    "    (16, 37, 1, 91, '2023-02-08'),\n",
    "    (17, 15, 3, 56, '2019-07-02'),\n",
    "    (18, 36, 2, 72, '2022-02-01'),\n",
    "    (19, 10, 5, 63, '2021-05-14'),\n",
    "    (20, 32, 4, 17, '2020-10-07'),\n",
    "    (21, 26, 1, 26, '2021-08-22'),\n",
    "    (22, 4, 3, 69, '2022-01-11'),\n",
    "    (23, 30, 2, 58, '2023-03-05'),\n",
    "    (24, 27, 1, 84, '2020-12-29'),\n",
    "    (25, 39, 5, 28, '2019-04-16'),\n",
    "    (26, 17, 4, 77, '2021-02-09'),\n",
    "    (27, 21, 3, 82, '2022-05-23'),\n",
    "    (28, 29, 2, 66, '2021-12-08'),\n",
    "    (29, 5, 1, 90, '2023-04-07'),\n",
    "    (30, 23, 5, 94, '2019-01-14'),\n",
    "    (31, 11, 4, 71, '2020-06-02'),\n",
    "    (32, 1, 3, 83, '2022-11-19'),\n",
    "    (33, 35, 2, 57, '2021-09-27'),\n",
    "    (34, 3, 1, 80, '2020-12-03'),\n",
    "    (35, 20, 5, 96, '2022-08-30'),\n",
    "    (36, 38, 4, 75, '2019-03-06'),\n",
    "    (37, 16, 3, 62, '2021-12-15'),\n",
    "    (38, 28, 2, 89, '2022-04-01'),\n",
    "    (39, 24, 1, 67, '2023-06-26'),\n",
    "    (40, 34, 5, 59, '2020-02-05'),\n",
    "    (41, 40, 4, 64, '2019-05-12'),\n",
    "    (42, 9, 1, 86, '2021-01-09'),\n",
    "    (43, 14, 3, 53, '2020-02-15'),\n",
    "    (44, 25, 2, 14, '2019-09-22'),\n",
    "    (45, 6, 5, 81, '2021-07-11'),\n",
    "    (46, 31, 4, 28, '2018-05-30'),\n",
    "    (47, 19, 1, 67, '2022-11-03'),\n",
    "    (48, 33, 3, 86, '2021-03-18'),\n",
    "    (49, 8, 2, 85, '2020-09-09'),\n",
    "    (50, 22, 1, 92, '2021-06-05'),\n",
    "    (51, 12, 5, 54, '2023-01-28'),\n",
    "    (52, 2, 4, 83, '2019-11-20'),\n",
    "    (53, 7, 3, 63, '2022-04-17'),\n",
    "    (54, 13, 2, 72, '2020-08-13'),\n",
    "    (55, 18, 1, 46, '2022-06-10'),\n",
    "    (56, 37, 5, 61, '2020-03-25'),\n",
    "    (57, 15, 4, 79, '2021-01-21'),\n",
    "    (58, 36, 3, 55, '2019-07-02'),\n",
    "    (59, 10, 2, 13, '2022-02-01'),\n",
    "    (60, 32, 1, 97, '2023-03-05');\n",
    "'''"
   ]
  },
  {
   "cell_type": "code",
   "execution_count": 39,
   "id": "3886cc6d-e447-42d6-972d-07de56ee66c3",
   "metadata": {},
   "outputs": [],
   "source": [
    "# Ejecutar el comando SQL para insertar datos en las tabla\n",
    "cursor.execute(datos)\n",
    "conn.commit()  # Confirmar la operación"
   ]
  },
  {
   "cell_type": "markdown",
   "id": "fa9cba1a-029a-4248-a30a-376d85b7c2d0",
   "metadata": {},
   "source": [
    "## PANDAS"
   ]
  },
  {
   "cell_type": "markdown",
   "id": "6ac5ce6c-f7df-45bb-b5e1-91d60e6affa6",
   "metadata": {},
   "source": [
    "### Consulta a la base de datos y creación de los DataFrame"
   ]
  },
  {
   "cell_type": "code",
   "execution_count": 43,
   "id": "d6f8f8fe-668e-4520-ba2d-48c2f29cebcf",
   "metadata": {},
   "outputs": [
    {
     "name": "stdout",
     "output_type": "stream",
     "text": [
      "Alumnos\n",
      "Materias\n",
      "Inscripciones\n",
      "Notas\n"
     ]
    }
   ],
   "source": [
    "# Vemos todas las tablas que contiene la base de datos\n",
    "cursor.execute(\"SELECT name FROM sys.tables;\")\n",
    "tables = cursor.fetchall()\n",
    "\n",
    "for table in tables:\n",
    "    print(table[0])"
   ]
  },
  {
   "cell_type": "markdown",
   "id": "6efdbdd9-6407-4e89-83b4-42bee9dffdd2",
   "metadata": {},
   "source": [
    "##### ALUMNOS"
   ]
  },
  {
   "cell_type": "code",
   "execution_count": 9,
   "id": "e79a7ee5-da68-4e81-8694-3f254d86143c",
   "metadata": {},
   "outputs": [
    {
     "data": {
      "text/html": [
       "<div>\n",
       "<style scoped>\n",
       "    .dataframe tbody tr th:only-of-type {\n",
       "        vertical-align: middle;\n",
       "    }\n",
       "\n",
       "    .dataframe tbody tr th {\n",
       "        vertical-align: top;\n",
       "    }\n",
       "\n",
       "    .dataframe thead th {\n",
       "        text-align: right;\n",
       "    }\n",
       "</style>\n",
       "<table border=\"1\" class=\"dataframe\">\n",
       "  <thead>\n",
       "    <tr style=\"text-align: right;\">\n",
       "      <th></th>\n",
       "      <th>alumno_id</th>\n",
       "      <th>nombre</th>\n",
       "      <th>fecha_nacimiento</th>\n",
       "      <th>direccion</th>\n",
       "    </tr>\n",
       "  </thead>\n",
       "  <tbody>\n",
       "    <tr>\n",
       "      <th>0</th>\n",
       "      <td>1</td>\n",
       "      <td>Juan Perez</td>\n",
       "      <td>1998-05-15</td>\n",
       "      <td>Calle 123, Ciudad</td>\n",
       "    </tr>\n",
       "    <tr>\n",
       "      <th>1</th>\n",
       "      <td>2</td>\n",
       "      <td>María García</td>\n",
       "      <td>1997-08-10</td>\n",
       "      <td>Avenida 456, Ciudad</td>\n",
       "    </tr>\n",
       "    <tr>\n",
       "      <th>2</th>\n",
       "      <td>3</td>\n",
       "      <td>Carlos Martínez</td>\n",
       "      <td>1999-02-20</td>\n",
       "      <td>Plaza 789, Ciudad</td>\n",
       "    </tr>\n",
       "    <tr>\n",
       "      <th>3</th>\n",
       "      <td>4</td>\n",
       "      <td>Luisa Rodriguez</td>\n",
       "      <td>2000-11-05</td>\n",
       "      <td>Calle 567, Ciudad</td>\n",
       "    </tr>\n",
       "    <tr>\n",
       "      <th>4</th>\n",
       "      <td>5</td>\n",
       "      <td>Andrés López</td>\n",
       "      <td>1996-03-22</td>\n",
       "      <td>Avenida 890, Ciudad</td>\n",
       "    </tr>\n",
       "  </tbody>\n",
       "</table>\n",
       "</div>"
      ],
      "text/plain": [
       "   alumno_id           nombre fecha_nacimiento            direccion\n",
       "0          1       Juan Perez       1998-05-15    Calle 123, Ciudad\n",
       "1          2     María García       1997-08-10  Avenida 456, Ciudad\n",
       "2          3  Carlos Martínez       1999-02-20    Plaza 789, Ciudad\n",
       "3          4  Luisa Rodriguez       2000-11-05    Calle 567, Ciudad\n",
       "4          5     Andrés López       1996-03-22  Avenida 890, Ciudad"
      ]
     },
     "execution_count": 9,
     "metadata": {},
     "output_type": "execute_result"
    }
   ],
   "source": [
    "tabla = \"Alumnos\"\n",
    "cursor.execute(f\"SELECT * FROM {tabla}\")\n",
    "filas = cursor.fetchall()\n",
    "column_names = [column[0] for column in cursor.description] # obtiene el nombre de las columnas\n",
    "consulta = [list(fila) for fila in filas] # como los resultados vienen en tuplas, en este caso se crea un ciclo para recorrer cada una de ellas y luego crear el DF\n",
    "\n",
    "\n",
    "Alumnos = pd.DataFrame(consulta, columns = column_names)\n",
    "\n",
    "Alumnos.head()"
   ]
  },
  {
   "cell_type": "markdown",
   "id": "848e00f4-3c14-452a-a0f1-a9c3a520f2ae",
   "metadata": {},
   "source": [
    "##### MATERIAS"
   ]
  },
  {
   "cell_type": "code",
   "execution_count": 10,
   "id": "b2939057-3d97-4f01-9159-99550eb9030d",
   "metadata": {},
   "outputs": [
    {
     "data": {
      "text/html": [
       "<div>\n",
       "<style scoped>\n",
       "    .dataframe tbody tr th:only-of-type {\n",
       "        vertical-align: middle;\n",
       "    }\n",
       "\n",
       "    .dataframe tbody tr th {\n",
       "        vertical-align: top;\n",
       "    }\n",
       "\n",
       "    .dataframe thead th {\n",
       "        text-align: right;\n",
       "    }\n",
       "</style>\n",
       "<table border=\"1\" class=\"dataframe\">\n",
       "  <thead>\n",
       "    <tr style=\"text-align: right;\">\n",
       "      <th></th>\n",
       "      <th>materia_id</th>\n",
       "      <th>nombre</th>\n",
       "      <th>creditos</th>\n",
       "    </tr>\n",
       "  </thead>\n",
       "  <tbody>\n",
       "    <tr>\n",
       "      <th>0</th>\n",
       "      <td>1</td>\n",
       "      <td>Matemáticas</td>\n",
       "      <td>9</td>\n",
       "    </tr>\n",
       "    <tr>\n",
       "      <th>1</th>\n",
       "      <td>2</td>\n",
       "      <td>Historia</td>\n",
       "      <td>3</td>\n",
       "    </tr>\n",
       "    <tr>\n",
       "      <th>2</th>\n",
       "      <td>3</td>\n",
       "      <td>Biología</td>\n",
       "      <td>5</td>\n",
       "    </tr>\n",
       "    <tr>\n",
       "      <th>3</th>\n",
       "      <td>4</td>\n",
       "      <td>Química</td>\n",
       "      <td>7</td>\n",
       "    </tr>\n",
       "    <tr>\n",
       "      <th>4</th>\n",
       "      <td>5</td>\n",
       "      <td>Física</td>\n",
       "      <td>9</td>\n",
       "    </tr>\n",
       "  </tbody>\n",
       "</table>\n",
       "</div>"
      ],
      "text/plain": [
       "   materia_id       nombre  creditos\n",
       "0           1  Matemáticas         9\n",
       "1           2     Historia         3\n",
       "2           3     Biología         5\n",
       "3           4      Química         7\n",
       "4           5       Física         9"
      ]
     },
     "execution_count": 10,
     "metadata": {},
     "output_type": "execute_result"
    }
   ],
   "source": [
    "tabla = \"Materias\"\n",
    "cursor.execute(f\"SELECT * FROM {tabla}\")\n",
    "filas = cursor.fetchall()\n",
    "column_names = [column[0] for column in cursor.description] # obtiene el nombre de las columnas\n",
    "consulta = [list(fila) for fila in filas] # como los resultados vienen en tuplas, en este caso se crea un ciclo para recorrer cada una de ellas y luego crear el DF\n",
    "\n",
    "\n",
    "Materias = pd.DataFrame(consulta, columns = column_names)\n",
    "\n",
    "Materias.head()"
   ]
  },
  {
   "cell_type": "markdown",
   "id": "c72dc13c-c31d-4a1e-9456-41bf12092666",
   "metadata": {},
   "source": [
    "##### INSCRIPCIONES"
   ]
  },
  {
   "cell_type": "code",
   "execution_count": 11,
   "id": "8d66f7fe-00bd-46d6-83ab-42ff846a281e",
   "metadata": {},
   "outputs": [
    {
     "data": {
      "text/html": [
       "<div>\n",
       "<style scoped>\n",
       "    .dataframe tbody tr th:only-of-type {\n",
       "        vertical-align: middle;\n",
       "    }\n",
       "\n",
       "    .dataframe tbody tr th {\n",
       "        vertical-align: top;\n",
       "    }\n",
       "\n",
       "    .dataframe thead th {\n",
       "        text-align: right;\n",
       "    }\n",
       "</style>\n",
       "<table border=\"1\" class=\"dataframe\">\n",
       "  <thead>\n",
       "    <tr style=\"text-align: right;\">\n",
       "      <th></th>\n",
       "      <th>alumno_id</th>\n",
       "      <th>materia_id</th>\n",
       "      <th>fecha_inscripcion</th>\n",
       "    </tr>\n",
       "  </thead>\n",
       "  <tbody>\n",
       "    <tr>\n",
       "      <th>0</th>\n",
       "      <td>1</td>\n",
       "      <td>3</td>\n",
       "      <td>2022-11-19</td>\n",
       "    </tr>\n",
       "    <tr>\n",
       "      <th>1</th>\n",
       "      <td>2</td>\n",
       "      <td>3</td>\n",
       "      <td>2020-08-13</td>\n",
       "    </tr>\n",
       "    <tr>\n",
       "      <th>2</th>\n",
       "      <td>3</td>\n",
       "      <td>1</td>\n",
       "      <td>2020-12-03</td>\n",
       "    </tr>\n",
       "    <tr>\n",
       "      <th>3</th>\n",
       "      <td>4</td>\n",
       "      <td>3</td>\n",
       "      <td>2022-01-11</td>\n",
       "    </tr>\n",
       "    <tr>\n",
       "      <th>4</th>\n",
       "      <td>5</td>\n",
       "      <td>1</td>\n",
       "      <td>2023-04-07</td>\n",
       "    </tr>\n",
       "  </tbody>\n",
       "</table>\n",
       "</div>"
      ],
      "text/plain": [
       "   alumno_id  materia_id fecha_inscripcion\n",
       "0          1           3        2022-11-19\n",
       "1          2           3        2020-08-13\n",
       "2          3           1        2020-12-03\n",
       "3          4           3        2022-01-11\n",
       "4          5           1        2023-04-07"
      ]
     },
     "execution_count": 11,
     "metadata": {},
     "output_type": "execute_result"
    }
   ],
   "source": [
    "tabla = \"Inscripciones\"\n",
    "cursor.execute(f\"SELECT * FROM {tabla}\")\n",
    "filas = cursor.fetchall()\n",
    "column_names = [column[0] for column in cursor.description] # obtiene el nombre de las columnas\n",
    "consulta = [list(fila) for fila in filas] # como los resultados vienen en tuplas, en este caso se crea un ciclo para recorrer cada una de ellas y luego crear el DF\n",
    "\n",
    "\n",
    "Inscripciones = pd.DataFrame(consulta, columns = column_names)\n",
    "\n",
    "Inscripciones.head()"
   ]
  },
  {
   "cell_type": "markdown",
   "id": "4aeced89-d456-44a2-ac8c-b02d7a692a60",
   "metadata": {},
   "source": [
    "##### NOTAS"
   ]
  },
  {
   "cell_type": "code",
   "execution_count": 12,
   "id": "b2db8105-f12d-472a-9110-8a9d6d60d32a",
   "metadata": {},
   "outputs": [
    {
     "data": {
      "text/html": [
       "<div>\n",
       "<style scoped>\n",
       "    .dataframe tbody tr th:only-of-type {\n",
       "        vertical-align: middle;\n",
       "    }\n",
       "\n",
       "    .dataframe tbody tr th {\n",
       "        vertical-align: top;\n",
       "    }\n",
       "\n",
       "    .dataframe thead th {\n",
       "        text-align: right;\n",
       "    }\n",
       "</style>\n",
       "<table border=\"1\" class=\"dataframe\">\n",
       "  <thead>\n",
       "    <tr style=\"text-align: right;\">\n",
       "      <th></th>\n",
       "      <th>nota_id</th>\n",
       "      <th>alumno_id</th>\n",
       "      <th>materia_id</th>\n",
       "      <th>valor</th>\n",
       "      <th>fecha_registro</th>\n",
       "    </tr>\n",
       "  </thead>\n",
       "  <tbody>\n",
       "    <tr>\n",
       "      <th>0</th>\n",
       "      <td>1</td>\n",
       "      <td>14</td>\n",
       "      <td>4</td>\n",
       "      <td>85.0</td>\n",
       "      <td>2020-02-15</td>\n",
       "    </tr>\n",
       "    <tr>\n",
       "      <th>1</th>\n",
       "      <td>2</td>\n",
       "      <td>25</td>\n",
       "      <td>5</td>\n",
       "      <td>92.0</td>\n",
       "      <td>2019-09-22</td>\n",
       "    </tr>\n",
       "    <tr>\n",
       "      <th>2</th>\n",
       "      <td>3</td>\n",
       "      <td>6</td>\n",
       "      <td>2</td>\n",
       "      <td>78.0</td>\n",
       "      <td>2021-07-11</td>\n",
       "    </tr>\n",
       "    <tr>\n",
       "      <th>3</th>\n",
       "      <td>4</td>\n",
       "      <td>31</td>\n",
       "      <td>1</td>\n",
       "      <td>65.0</td>\n",
       "      <td>2018-05-30</td>\n",
       "    </tr>\n",
       "    <tr>\n",
       "      <th>4</th>\n",
       "      <td>5</td>\n",
       "      <td>9</td>\n",
       "      <td>4</td>\n",
       "      <td>74.0</td>\n",
       "      <td>2022-11-03</td>\n",
       "    </tr>\n",
       "  </tbody>\n",
       "</table>\n",
       "</div>"
      ],
      "text/plain": [
       "   nota_id  alumno_id  materia_id  valor fecha_registro\n",
       "0        1         14           4   85.0     2020-02-15\n",
       "1        2         25           5   92.0     2019-09-22\n",
       "2        3          6           2   78.0     2021-07-11\n",
       "3        4         31           1   65.0     2018-05-30\n",
       "4        5          9           4   74.0     2022-11-03"
      ]
     },
     "execution_count": 12,
     "metadata": {},
     "output_type": "execute_result"
    }
   ],
   "source": [
    "tabla = \"Notas\"\n",
    "cursor.execute(f\"SELECT * FROM {tabla}\")\n",
    "filas = cursor.fetchall()\n",
    "column_names = [column[0] for column in cursor.description] # obtiene el nombre de las columnas\n",
    "consulta = [list(fila) for fila in filas] # como los resultados vienen en tuplas, en este caso se crea un ciclo para recorrer cada una de ellas y luego crear el DF\n",
    "\n",
    "\n",
    "Notas = pd.DataFrame(consulta, columns = column_names)\n",
    "\n",
    "Notas.head()"
   ]
  },
  {
   "cell_type": "markdown",
   "id": "d33beeed-3280-455c-ab32-0b516242e192",
   "metadata": {},
   "source": [
    "### Exploración de tablas"
   ]
  },
  {
   "cell_type": "code",
   "execution_count": 64,
   "id": "9fa33dca-9b17-4a58-857b-f7916ef2c12d",
   "metadata": {},
   "outputs": [
    {
     "name": "stdout",
     "output_type": "stream",
     "text": [
      "<class 'pandas.core.frame.DataFrame'>\n",
      "RangeIndex: 40 entries, 0 to 39\n",
      "Data columns (total 4 columns):\n",
      " #   Column            Non-Null Count  Dtype         \n",
      "---  ------            --------------  -----         \n",
      " 0   alumno_id         40 non-null     int64         \n",
      " 1   nombre            40 non-null     object        \n",
      " 2   fecha_nacimiento  40 non-null     datetime64[ns]\n",
      " 3   direccion         40 non-null     object        \n",
      "dtypes: datetime64[ns](1), int64(1), object(2)\n",
      "memory usage: 1.4+ KB\n"
     ]
    }
   ],
   "source": [
    "Alumnos.info()"
   ]
  },
  {
   "cell_type": "code",
   "execution_count": 13,
   "id": "9952584f-8b31-47fd-af29-f9063d0e0007",
   "metadata": {},
   "outputs": [],
   "source": [
    "Alumnos['fecha_nacimiento'] = pd.to_datetime(Alumnos['fecha_nacimiento'])"
   ]
  },
  {
   "cell_type": "code",
   "execution_count": 67,
   "id": "763353bb-76b6-4f75-817e-efdd01b3f618",
   "metadata": {},
   "outputs": [
    {
     "name": "stdout",
     "output_type": "stream",
     "text": [
      "<class 'pandas.core.frame.DataFrame'>\n",
      "RangeIndex: 42 entries, 0 to 41\n",
      "Data columns (total 3 columns):\n",
      " #   Column             Non-Null Count  Dtype \n",
      "---  ------             --------------  ----- \n",
      " 0   alumno_id          42 non-null     int64 \n",
      " 1   materia_id         42 non-null     int64 \n",
      " 2   fecha_inscripcion  42 non-null     object\n",
      "dtypes: int64(2), object(1)\n",
      "memory usage: 1.1+ KB\n"
     ]
    }
   ],
   "source": [
    "Inscripciones.info()"
   ]
  },
  {
   "cell_type": "code",
   "execution_count": 14,
   "id": "b6df6aa4-3651-452f-89a6-dfd3fd1ca782",
   "metadata": {},
   "outputs": [],
   "source": [
    "Inscripciones['fecha_inscripcion'] = pd.to_datetime(Inscripciones['fecha_inscripcion'])"
   ]
  },
  {
   "cell_type": "code",
   "execution_count": 70,
   "id": "56d2519d-440d-4467-bda1-14b9e1bb11c4",
   "metadata": {},
   "outputs": [
    {
     "name": "stdout",
     "output_type": "stream",
     "text": [
      "<class 'pandas.core.frame.DataFrame'>\n",
      "RangeIndex: 60 entries, 0 to 59\n",
      "Data columns (total 5 columns):\n",
      " #   Column          Non-Null Count  Dtype  \n",
      "---  ------          --------------  -----  \n",
      " 0   nota_id         60 non-null     int64  \n",
      " 1   alumno_id       60 non-null     int64  \n",
      " 2   materia_id      60 non-null     int64  \n",
      " 3   valor           60 non-null     float64\n",
      " 4   fecha_registro  60 non-null     object \n",
      "dtypes: float64(1), int64(3), object(1)\n",
      "memory usage: 2.5+ KB\n"
     ]
    }
   ],
   "source": [
    "Notas.info()"
   ]
  },
  {
   "cell_type": "code",
   "execution_count": 15,
   "id": "ced77621-3393-4cb3-b67e-1c8ef8401bdf",
   "metadata": {},
   "outputs": [],
   "source": [
    "Notas['fecha_registro'] = pd.to_datetime(Notas['fecha_registro'])"
   ]
  },
  {
   "cell_type": "markdown",
   "id": "3c5b6f27-25bc-4ad2-b2d5-389da420d3a2",
   "metadata": {},
   "source": [
    "### Resolución de Consignas"
   ]
  },
  {
   "cell_type": "raw",
   "id": "8ef8dfec-6600-497b-876f-9c4dc22dbcfd",
   "metadata": {},
   "source": [
    "1. El equipo docente de la asignatura Historia sostiene que hay una gran cantidad de alumnos\n",
    "promocionados en su materia nacidos desde 1998 en adelante. Se desea obtener su id,\n",
    "nombre y fecha de nacimiento.\n",
    "\n",
    "2. La asignatura de Matemáticas es una de las más exigentes según las encuestas estudiantiles.\n",
    "Para conocer el estado histórico de los exámenes de fin de curso en esta materia se desea\n",
    "obtener una tabla que contenga las columnas ‘Desaprobados’, ‘Regulares’, ‘Promocionados’,\n",
    "‘Total’. Debe contener una sola fila con la cantidad de alumnos correspondiente a cada\n",
    "columna.\n",
    "\n",
    "3. A fin de priorizar la asignación de recursos educativos entre las materias, se desea obtener el\n",
    "listado de id de aquellas materias que tengan más de 5 alumnos inscriptos antes del año\n",
    "2022.\n",
    "\n",
    "4. El equipo directivo de Corebi School desea conocer la variación generacional en los\n",
    "estudiantes inscritos. Para ello es necesario obtener el listado de la cantidad de alumnos\n",
    "registrados por cada generación (año de nacimiento) ordenados por año descendentemente.\n",
    "\n",
    "5. Para obtener la “Beca de investigación en ciencias naturales” es necesario cumplir con 10 o\n",
    "más créditos en los exámenes del año correspondiente. Para ganar los créditos de una\n",
    "materia es necesario como mínimo regularizarla. Se desea conocer el nombre y cantidad de\n",
    "créditos de los alumnos ganadores de la beca en el año 2021."
   ]
  },
  {
   "cell_type": "markdown",
   "id": "1146c52d-dc27-478a-94d4-71613599426e",
   "metadata": {},
   "source": [
    "#### 1. El equipo docente de la asignatura Historia sostiene que hay una gran cantidad de alumnos promocionados en su materia nacidos desde 1998 en adelante. Se desea obtener su id, nombre y fecha de nacimiento."
   ]
  },
  {
   "cell_type": "code",
   "execution_count": 33,
   "id": "78f7f263-b9cd-4579-a490-444f452db548",
   "metadata": {},
   "outputs": [
    {
     "data": {
      "text/html": [
       "<div>\n",
       "<style scoped>\n",
       "    .dataframe tbody tr th:only-of-type {\n",
       "        vertical-align: middle;\n",
       "    }\n",
       "\n",
       "    .dataframe tbody tr th {\n",
       "        vertical-align: top;\n",
       "    }\n",
       "\n",
       "    .dataframe thead th {\n",
       "        text-align: right;\n",
       "    }\n",
       "</style>\n",
       "<table border=\"1\" class=\"dataframe\">\n",
       "  <thead>\n",
       "    <tr style=\"text-align: right;\">\n",
       "      <th></th>\n",
       "      <th>alumno_id_x</th>\n",
       "      <th>nombre</th>\n",
       "      <th>fecha_nacimiento</th>\n",
       "      <th>direccion</th>\n",
       "      <th>nota_id</th>\n",
       "      <th>alumno_id_y</th>\n",
       "      <th>materia_id</th>\n",
       "      <th>valor</th>\n",
       "      <th>fecha_registro</th>\n",
       "    </tr>\n",
       "  </thead>\n",
       "  <tbody>\n",
       "    <tr>\n",
       "      <th>0</th>\n",
       "      <td>1</td>\n",
       "      <td>Juan Perez</td>\n",
       "      <td>1998-05-15</td>\n",
       "      <td>Calle 123, Ciudad</td>\n",
       "      <td>32</td>\n",
       "      <td>1</td>\n",
       "      <td>3</td>\n",
       "      <td>83.0</td>\n",
       "      <td>2022-11-19</td>\n",
       "    </tr>\n",
       "    <tr>\n",
       "      <th>1</th>\n",
       "      <td>2</td>\n",
       "      <td>María García</td>\n",
       "      <td>1997-08-10</td>\n",
       "      <td>Avenida 456, Ciudad</td>\n",
       "      <td>12</td>\n",
       "      <td>2</td>\n",
       "      <td>3</td>\n",
       "      <td>73.0</td>\n",
       "      <td>2020-08-13</td>\n",
       "    </tr>\n",
       "    <tr>\n",
       "      <th>2</th>\n",
       "      <td>2</td>\n",
       "      <td>María García</td>\n",
       "      <td>1997-08-10</td>\n",
       "      <td>Avenida 456, Ciudad</td>\n",
       "      <td>52</td>\n",
       "      <td>2</td>\n",
       "      <td>4</td>\n",
       "      <td>83.0</td>\n",
       "      <td>2019-11-20</td>\n",
       "    </tr>\n",
       "    <tr>\n",
       "      <th>3</th>\n",
       "      <td>3</td>\n",
       "      <td>Carlos Martínez</td>\n",
       "      <td>1999-02-20</td>\n",
       "      <td>Plaza 789, Ciudad</td>\n",
       "      <td>34</td>\n",
       "      <td>3</td>\n",
       "      <td>1</td>\n",
       "      <td>80.0</td>\n",
       "      <td>2020-12-03</td>\n",
       "    </tr>\n",
       "    <tr>\n",
       "      <th>4</th>\n",
       "      <td>4</td>\n",
       "      <td>Luisa Rodriguez</td>\n",
       "      <td>2000-11-05</td>\n",
       "      <td>Calle 567, Ciudad</td>\n",
       "      <td>22</td>\n",
       "      <td>4</td>\n",
       "      <td>3</td>\n",
       "      <td>69.0</td>\n",
       "      <td>2022-01-11</td>\n",
       "    </tr>\n",
       "  </tbody>\n",
       "</table>\n",
       "</div>"
      ],
      "text/plain": [
       "   alumno_id_x           nombre fecha_nacimiento            direccion  \\\n",
       "0            1       Juan Perez       1998-05-15    Calle 123, Ciudad   \n",
       "1            2     María García       1997-08-10  Avenida 456, Ciudad   \n",
       "2            2     María García       1997-08-10  Avenida 456, Ciudad   \n",
       "3            3  Carlos Martínez       1999-02-20    Plaza 789, Ciudad   \n",
       "4            4  Luisa Rodriguez       2000-11-05    Calle 567, Ciudad   \n",
       "\n",
       "   nota_id  alumno_id_y  materia_id  valor fecha_registro  \n",
       "0       32            1           3   83.0     2022-11-19  \n",
       "1       12            2           3   73.0     2020-08-13  \n",
       "2       52            2           4   83.0     2019-11-20  \n",
       "3       34            3           1   80.0     2020-12-03  \n",
       "4       22            4           3   69.0     2022-01-11  "
      ]
     },
     "execution_count": 33,
     "metadata": {},
     "output_type": "execute_result"
    }
   ],
   "source": [
    "prom_historia = Alumnos.merge(Notas, how='left', left_on=Alumnos['alumno_id'], right_on=Notas['alumno_id'])\n",
    "prom_historia.drop(columns=['key_0'], inplace=True) # se elimina la columna\n",
    "prom_historia.head()"
   ]
  },
  {
   "cell_type": "code",
   "execution_count": 34,
   "id": "cd77d8b0-6f07-4d83-92b7-a6ca67d859e1",
   "metadata": {},
   "outputs": [
    {
     "data": {
      "text/html": [
       "<div>\n",
       "<style scoped>\n",
       "    .dataframe tbody tr th:only-of-type {\n",
       "        vertical-align: middle;\n",
       "    }\n",
       "\n",
       "    .dataframe tbody tr th {\n",
       "        vertical-align: top;\n",
       "    }\n",
       "\n",
       "    .dataframe thead th {\n",
       "        text-align: right;\n",
       "    }\n",
       "</style>\n",
       "<table border=\"1\" class=\"dataframe\">\n",
       "  <thead>\n",
       "    <tr style=\"text-align: right;\">\n",
       "      <th></th>\n",
       "      <th>key_0</th>\n",
       "      <th>alumno_id_x</th>\n",
       "      <th>nombre_x</th>\n",
       "      <th>fecha_nacimiento</th>\n",
       "      <th>direccion</th>\n",
       "      <th>nota_id</th>\n",
       "      <th>alumno_id_y</th>\n",
       "      <th>materia_id_x</th>\n",
       "      <th>valor</th>\n",
       "      <th>fecha_registro</th>\n",
       "      <th>materia_id_y</th>\n",
       "      <th>nombre_y</th>\n",
       "      <th>creditos</th>\n",
       "    </tr>\n",
       "  </thead>\n",
       "  <tbody>\n",
       "    <tr>\n",
       "      <th>0</th>\n",
       "      <td>3</td>\n",
       "      <td>1</td>\n",
       "      <td>Juan Perez</td>\n",
       "      <td>1998-05-15</td>\n",
       "      <td>Calle 123, Ciudad</td>\n",
       "      <td>32</td>\n",
       "      <td>1</td>\n",
       "      <td>3</td>\n",
       "      <td>83.0</td>\n",
       "      <td>2022-11-19</td>\n",
       "      <td>3</td>\n",
       "      <td>Biología</td>\n",
       "      <td>5</td>\n",
       "    </tr>\n",
       "    <tr>\n",
       "      <th>1</th>\n",
       "      <td>3</td>\n",
       "      <td>2</td>\n",
       "      <td>María García</td>\n",
       "      <td>1997-08-10</td>\n",
       "      <td>Avenida 456, Ciudad</td>\n",
       "      <td>12</td>\n",
       "      <td>2</td>\n",
       "      <td>3</td>\n",
       "      <td>73.0</td>\n",
       "      <td>2020-08-13</td>\n",
       "      <td>3</td>\n",
       "      <td>Biología</td>\n",
       "      <td>5</td>\n",
       "    </tr>\n",
       "    <tr>\n",
       "      <th>2</th>\n",
       "      <td>3</td>\n",
       "      <td>4</td>\n",
       "      <td>Luisa Rodriguez</td>\n",
       "      <td>2000-11-05</td>\n",
       "      <td>Calle 567, Ciudad</td>\n",
       "      <td>22</td>\n",
       "      <td>4</td>\n",
       "      <td>3</td>\n",
       "      <td>69.0</td>\n",
       "      <td>2022-01-11</td>\n",
       "      <td>3</td>\n",
       "      <td>Biología</td>\n",
       "      <td>5</td>\n",
       "    </tr>\n",
       "    <tr>\n",
       "      <th>3</th>\n",
       "      <td>3</td>\n",
       "      <td>7</td>\n",
       "      <td>Diego Torres</td>\n",
       "      <td>1999-09-30</td>\n",
       "      <td>Calle 901, Ciudad</td>\n",
       "      <td>53</td>\n",
       "      <td>7</td>\n",
       "      <td>3</td>\n",
       "      <td>63.0</td>\n",
       "      <td>2022-04-17</td>\n",
       "      <td>3</td>\n",
       "      <td>Biología</td>\n",
       "      <td>5</td>\n",
       "    </tr>\n",
       "    <tr>\n",
       "      <th>4</th>\n",
       "      <td>3</td>\n",
       "      <td>14</td>\n",
       "      <td>Isabella Jiménez</td>\n",
       "      <td>1997-09-29</td>\n",
       "      <td>Avenida 567, Ciudad</td>\n",
       "      <td>43</td>\n",
       "      <td>14</td>\n",
       "      <td>3</td>\n",
       "      <td>53.0</td>\n",
       "      <td>2020-02-15</td>\n",
       "      <td>3</td>\n",
       "      <td>Biología</td>\n",
       "      <td>5</td>\n",
       "    </tr>\n",
       "  </tbody>\n",
       "</table>\n",
       "</div>"
      ],
      "text/plain": [
       "   key_0  alumno_id_x          nombre_x fecha_nacimiento            direccion  \\\n",
       "0      3            1        Juan Perez       1998-05-15    Calle 123, Ciudad   \n",
       "1      3            2      María García       1997-08-10  Avenida 456, Ciudad   \n",
       "2      3            4   Luisa Rodriguez       2000-11-05    Calle 567, Ciudad   \n",
       "3      3            7      Diego Torres       1999-09-30    Calle 901, Ciudad   \n",
       "4      3           14  Isabella Jiménez       1997-09-29  Avenida 567, Ciudad   \n",
       "\n",
       "   nota_id  alumno_id_y  materia_id_x  valor fecha_registro  materia_id_y  \\\n",
       "0       32            1             3   83.0     2022-11-19             3   \n",
       "1       12            2             3   73.0     2020-08-13             3   \n",
       "2       22            4             3   69.0     2022-01-11             3   \n",
       "3       53            7             3   63.0     2022-04-17             3   \n",
       "4       43           14             3   53.0     2020-02-15             3   \n",
       "\n",
       "   nombre_y  creditos  \n",
       "0  Biología         5  \n",
       "1  Biología         5  \n",
       "2  Biología         5  \n",
       "3  Biología         5  \n",
       "4  Biología         5  "
      ]
     },
     "execution_count": 34,
     "metadata": {},
     "output_type": "execute_result"
    }
   ],
   "source": [
    "prom_historia = prom_historia.merge(Materias, left_on=prom_historia['materia_id'], right_on=Materias['materia_id'])\n",
    "prom_historia.head()"
   ]
  },
  {
   "cell_type": "code",
   "execution_count": 35,
   "id": "380de79c-682f-4527-8a53-70b1321cf0c3",
   "metadata": {},
   "outputs": [
    {
     "data": {
      "text/html": [
       "<div>\n",
       "<style scoped>\n",
       "    .dataframe tbody tr th:only-of-type {\n",
       "        vertical-align: middle;\n",
       "    }\n",
       "\n",
       "    .dataframe tbody tr th {\n",
       "        vertical-align: top;\n",
       "    }\n",
       "\n",
       "    .dataframe thead th {\n",
       "        text-align: right;\n",
       "    }\n",
       "</style>\n",
       "<table border=\"1\" class=\"dataframe\">\n",
       "  <thead>\n",
       "    <tr style=\"text-align: right;\">\n",
       "      <th></th>\n",
       "      <th>alumno_id</th>\n",
       "      <th>Nombre</th>\n",
       "      <th>fecha_nacimiento</th>\n",
       "      <th>Materia</th>\n",
       "      <th>Nota</th>\n",
       "    </tr>\n",
       "  </thead>\n",
       "  <tbody>\n",
       "    <tr>\n",
       "      <th>0</th>\n",
       "      <td>1</td>\n",
       "      <td>Juan Perez</td>\n",
       "      <td>1998-05-15</td>\n",
       "      <td>Biología</td>\n",
       "      <td>83.0</td>\n",
       "    </tr>\n",
       "    <tr>\n",
       "      <th>1</th>\n",
       "      <td>2</td>\n",
       "      <td>María García</td>\n",
       "      <td>1997-08-10</td>\n",
       "      <td>Biología</td>\n",
       "      <td>73.0</td>\n",
       "    </tr>\n",
       "    <tr>\n",
       "      <th>2</th>\n",
       "      <td>4</td>\n",
       "      <td>Luisa Rodriguez</td>\n",
       "      <td>2000-11-05</td>\n",
       "      <td>Biología</td>\n",
       "      <td>69.0</td>\n",
       "    </tr>\n",
       "    <tr>\n",
       "      <th>3</th>\n",
       "      <td>7</td>\n",
       "      <td>Diego Torres</td>\n",
       "      <td>1999-09-30</td>\n",
       "      <td>Biología</td>\n",
       "      <td>63.0</td>\n",
       "    </tr>\n",
       "    <tr>\n",
       "      <th>4</th>\n",
       "      <td>14</td>\n",
       "      <td>Isabella Jiménez</td>\n",
       "      <td>1997-09-29</td>\n",
       "      <td>Biología</td>\n",
       "      <td>53.0</td>\n",
       "    </tr>\n",
       "  </tbody>\n",
       "</table>\n",
       "</div>"
      ],
      "text/plain": [
       "   alumno_id            Nombre fecha_nacimiento   Materia  Nota\n",
       "0          1        Juan Perez       1998-05-15  Biología  83.0\n",
       "1          2      María García       1997-08-10  Biología  73.0\n",
       "2          4   Luisa Rodriguez       2000-11-05  Biología  69.0\n",
       "3          7      Diego Torres       1999-09-30  Biología  63.0\n",
       "4         14  Isabella Jiménez       1997-09-29  Biología  53.0"
      ]
     },
     "execution_count": 35,
     "metadata": {},
     "output_type": "execute_result"
    }
   ],
   "source": [
    "prom_historia = prom_historia[['alumno_id_x', 'nombre_x','fecha_nacimiento', 'nombre_y','valor']]\n",
    "prom_historia=prom_historia.rename(columns={'alumno_id_x':'alumno_id','nombre_x':'Nombre', 'nombre_y':'Materia', 'valor':'Nota'})\n",
    "prom_historia.head()"
   ]
  },
  {
   "cell_type": "code",
   "execution_count": 36,
   "id": "7f118a6b-6de7-4312-bbb3-816edb0c64f9",
   "metadata": {},
   "outputs": [
    {
     "data": {
      "text/html": [
       "<div>\n",
       "<style scoped>\n",
       "    .dataframe tbody tr th:only-of-type {\n",
       "        vertical-align: middle;\n",
       "    }\n",
       "\n",
       "    .dataframe tbody tr th {\n",
       "        vertical-align: top;\n",
       "    }\n",
       "\n",
       "    .dataframe thead th {\n",
       "        text-align: right;\n",
       "    }\n",
       "</style>\n",
       "<table border=\"1\" class=\"dataframe\">\n",
       "  <thead>\n",
       "    <tr style=\"text-align: right;\">\n",
       "      <th></th>\n",
       "      <th>alumno_id</th>\n",
       "      <th>Nombre</th>\n",
       "      <th>fecha_nacimiento</th>\n",
       "      <th>Materia</th>\n",
       "      <th>Nota</th>\n",
       "    </tr>\n",
       "  </thead>\n",
       "  <tbody>\n",
       "    <tr>\n",
       "      <th>43</th>\n",
       "      <td>28</td>\n",
       "      <td>Martina Gómez</td>\n",
       "      <td>1999-05-05</td>\n",
       "      <td>Historia</td>\n",
       "      <td>89.0</td>\n",
       "    </tr>\n",
       "  </tbody>\n",
       "</table>\n",
       "</div>"
      ],
      "text/plain": [
       "    alumno_id         Nombre fecha_nacimiento   Materia  Nota\n",
       "43         28  Martina Gómez       1999-05-05  Historia  89.0"
      ]
     },
     "execution_count": 36,
     "metadata": {},
     "output_type": "execute_result"
    }
   ],
   "source": [
    "prom_historia = prom_historia[(prom_historia['Materia']=='Historia') & \n",
    "                              (prom_historia['fecha_nacimiento'].dt.year>=1998) &\n",
    "                              (prom_historia['Nota']>=80)\n",
    "                             ]\n",
    "prom_historia"
   ]
  },
  {
   "cell_type": "markdown",
   "id": "205d3f55-ea53-40fc-939c-e7e34d1a1b91",
   "metadata": {},
   "source": [
    "#### 2. La asignatura de Matemáticas es una de las más exigentes según las encuestas estudiantiles. Para conocer el estado histórico de los exámenes de fin de curso en esta materia se desea obtener una tabla que contenga las columnas ‘Desaprobados’, ‘Regulares’, ‘Promocionados’, ‘Total’. Debe contener una sola fila con la cantidad de alumnos correspondiente a cada columna."
   ]
  },
  {
   "cell_type": "code",
   "execution_count": null,
   "id": "95d8b8a7-3cb2-4f68-a5da-7aeee8b2b9f5",
   "metadata": {},
   "outputs": [],
   "source": []
  }
 ],
 "metadata": {
  "kernelspec": {
   "display_name": "Python 3 (ipykernel)",
   "language": "python",
   "name": "python3"
  },
  "language_info": {
   "codemirror_mode": {
    "name": "ipython",
    "version": 3
   },
   "file_extension": ".py",
   "mimetype": "text/x-python",
   "name": "python",
   "nbconvert_exporter": "python",
   "pygments_lexer": "ipython3",
   "version": "3.9.18"
  }
 },
 "nbformat": 4,
 "nbformat_minor": 5
}
